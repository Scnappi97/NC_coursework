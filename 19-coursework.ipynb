{
 "cells": [
  {
   "cell_type": "markdown",
   "metadata": {},
   "source": [
    "# Reconstruct MRI Images"
   ]
  },
  {
   "cell_type": "markdown",
   "metadata": {},
   "source": [
    "#### Author： Haodong Zuo，Jing Bai， Shuqi Liu,  Yifan Guo and Yunong Jiang"
   ]
  },
  {
   "cell_type": "markdown",
   "metadata": {},
   "source": [
    "results : https://drive.google.com/drive/folders/1p6502DZXtXj_dWWR1b2UHcBijeOrGMG2?usp=sharing"
   ]
  },
  {
   "cell_type": "markdown",
   "metadata": {},
   "source": [
    "## 1 Introduction"
   ]
  },
  {
   "cell_type": "markdown",
   "metadata": {},
   "source": [
    ">FastMRI is a cooperation project between Facebook AI Research and NYU Langone Health.[1]  "
   ]
  },
  {
   "cell_type": "markdown",
   "metadata": {},
   "source": [
    "They have released a standardized set of AI tools, baselines and opened MRI data set. Baseline models mainly for ML-based image reconstruction from k-space data subsampled at 4 times and 8 times scan accelerations. "
   ]
  },
  {
   "cell_type": "markdown",
   "metadata": {},
   "source": [
    ">The initial data set release includes approximately 1.5 million MRI images drawn from 10,000 scans, as well as raw measurement data from nearly 1,600 scans.[2]"
   ]
  },
  {
   "cell_type": "markdown",
   "metadata": {},
   "source": [
    "Standardized data will help address the challenge of consistency which also considered as the first large-scale MRI data set, so we choose a partial subset from the total fast MRI data set which contains raw k-space data from 100 three-dimensional volumes, each having about 30-40 two-dimensional slices. We split the data into 70 percentages for training and 30 percentages for testing. For the training set, each volume contains only fully sampled k-space data. "
   ]
  },
  {
   "cell_type": "markdown",
   "metadata": {},
   "source": [
    ">For the test set, each data contains a 4-fold undersampled k-space data and a 4-fold mask that generates the undersampled k-space.[3] "
   ]
  },
  {
   "cell_type": "markdown",
   "metadata": {},
   "source": [
    "The 8-fold undersampled k-space data and the 8-fold mask were also included. We hope that to use provided AI-driven image reconstruction baseline to achieve more advanced deep learning methods and more accurate results than previous works."
   ]
  },
  {
   "cell_type": "markdown",
   "metadata": {},
   "source": [
    "## 2 Design"
   ]
  },
  {
   "cell_type": "markdown",
   "metadata": {},
   "source": [
    "### 2.1 Model"
   ]
  },
  {
   "cell_type": "markdown",
   "metadata": {},
   "source": [
    "Computer vision is intended to recognize and understand the content in an image/video by using various deep learning techniques. There are many excellent algorithms for semantic segmentation of medical images, including MRI image processing. "
   ]
  },
  {
   "cell_type": "markdown",
   "metadata": {},
   "source": [
    ">For example, Olaf Ronneberger, Phillip Fischer, and Thomas Brox first established a more elegant framework based on CNN in 2015, U-Net.[5] "
   ]
  },
  {
   "cell_type": "markdown",
   "metadata": {},
   "source": [
    "Owing to its models on fully connected convolutional layers has been modified to enable the Data, biomedical images can be better segmented,"
   ]
  },
  {
   "cell_type": "markdown",
   "metadata": {},
   "source": [
    "The entire original U-Net network structure is similar to a large U letter: input one $1\\times320\\times320$ image into contraction path(same as traditional convolutional network) which consists of a non-filled convolution with a $3\\times3$ convolution kernel, after each convolution, it functions through a ReLu activation function, and a $2\\times2$ maximum pool and a $2$ step size. Each step in the contraction path first uses up-convolution. Each time it is used, the number of feature channels is halved and the size of the feature map is doubled. The expansion path consists of $2\\times2$ upper convolution, the output channels of the upper convolution are half of the original, and then are connected in series with the corresponding feature map (after cropping) (to obtain channels of the same size as the original), and then pass through two dimensions of $3\\times3$'s convolution and ReLu effect. The size of the convolution kernel of the last layer is $1\\times1$, and the feature map of $64$ channels is converted into the result of a specific depth (the number of classifications, the second classification is $2$).In total, there are $23$ convolutional layers in this network and the size of the output image is equal to the size of the original image."
   ]
  },
  {
   "cell_type": "markdown",
   "metadata": {},
   "source": [
    "We use the U-Net structure drawing drawn by Latex to better explain the U-Net network we use."
   ]
  },
  {
   "cell_type": "code",
   "execution_count": 7,
   "metadata": {},
   "outputs": [
    {
     "data": {
      "text/html": [
       "<img src=\"U-Net.jpeg\"/>"
      ],
      "text/plain": [
       "<IPython.core.display.Image object>"
      ]
     },
     "execution_count": 7,
     "metadata": {},
     "output_type": "execute_result"
    }
   ],
   "source": [
    "from IPython.display import Image\n",
    "from IPython.core.display import HTML \n",
    "Image(url= \"U-Net.jpeg\")"
   ]
  },
  {
   "cell_type": "markdown",
   "metadata": {},
   "source": [
    "### 2.2 Loss Function"
   ]
  },
  {
   "cell_type": "markdown",
   "metadata": {},
   "source": [
    "In machine/deep learning, the loss function is the method that calculates the error and evaluates the matching performance between a specific algorithm model and given data. The large value of the loss function indicates that prediction deviates greatly from the real results. And with some optimizing measure, loss function learns to decrease the loss of the predicted data gradually. There are some different loss functions applied to various models. In general, loss functions could be divided into two basic categories according to the type of the learning task we do--Regression losses and Classification losses. To exemplify, MSE loss, L1 loss and MBE loss are regression losses, while SVM loss and cross-entropy loss are classification losses."
   ]
  },
  {
   "cell_type": "markdown",
   "metadata": {},
   "source": [
    "In the MRI experiment, to reconstruct images with good quality, we designed a reasonable model with some loss functions and minimized the loss by comparing several loss functions and optimization functions. There are three loss functions we take to optimize the results."
   ]
  },
  {
   "cell_type": "markdown",
   "metadata": {},
   "source": [
    "#### 2.2.1  L1 loss"
   ]
  },
  {
   "cell_type": "markdown",
   "metadata": {},
   "source": [
    "The L1 loss function is calculated by the least absolute deviations. The equation is:"
   ]
  },
  {
   "cell_type": "markdown",
   "metadata": {},
   "source": [
    "$$ L_1(v_t, v_0) = \\frac{1}{n} \\sum_{i=1}^n \\left| v_t - v_0 \\right| , \\tag{1} $$"
   ]
  },
  {
   "cell_type": "markdown",
   "metadata": {},
   "source": [
    "where $ v_t $ is the output and $ v_0 $ is the corresponding ground truth."
   ]
  },
  {
   "cell_type": "markdown",
   "metadata": {},
   "source": [
    "L1 loss is common and suitable to start the experiments. It is an essential method for lots of optimization of the results. However, Mathematically, the L1 loss is calculated as the absolute value, but it cannot show the big difference between elements. For example, some elements are negative, some elements are positive, but the sum is close to 0."
   ]
  },
  {
   "cell_type": "markdown",
   "metadata": {},
   "source": [
    "However, in the reverse transfer, no matter how small the Loss of L1 is calculated, the error return is always a fixed value, which leads to the possibility that when the system is approaching optimization, the error return makes the whole system run out of balance. But this kind of setting also has an advantage that a stable error return can ensure the change of the whole system in a certain range, it is easier to catch the bug. To exemplify, if the system is not balanced, it is probably a weight problem."
   ]
  },
  {
   "cell_type": "markdown",
   "metadata": {},
   "source": [
    "#### 2.2.2 L2(MSE) loss"
   ]
  },
  {
   "cell_type": "markdown",
   "metadata": {},
   "source": [
    "The L2(MSE) loss function is defined as the least square errors. The formula is:"
   ]
  },
  {
   "cell_type": "markdown",
   "metadata": {},
   "source": [
    "$$ L_{MSE}(v_t, v_0) = \\frac{1}{n} \\sum_{i=1}^n (v_t - v_0)^2 , \\tag{2} $$"
   ]
  },
  {
   "cell_type": "markdown",
   "metadata": {},
   "source": [
    "where $ v_t $ is the output and $ v_0 $ is the corresponding ground truth."
   ]
  },
  {
   "cell_type": "markdown",
   "metadata": {},
   "source": [
    ">MSE loss is the smallest in the experiment due to its result is positive. In reverse transfer, the error return of L2 is proportional to the output and the same as the relationship about the difference between the corresponding element in the template. In this case, the error return of L2 is positive, negative or zero. In this case, if the difference between the output of an element and a template is large, the error return of that part becomes very large easily[9]."
   ]
  },
  {
   "cell_type": "markdown",
   "metadata": {},
   "source": [
    "#### 2.2.3 SSIM loss"
   ]
  },
  {
   "cell_type": "markdown",
   "metadata": {},
   "source": [
    ">The SSIM loss function (the structural similarity Index) is a perceptual metric. It is used to calculate image quality degraded loss caused by dealing with data compression or data transmission. It could also say that it computes a similar index between two images by evaluating the structural difference among nearby pixels. It always carries out requiring two images from the same image capture and sometimes is calculated depended on three-dimensional volumes rather than two-dimensional volumes. The equation is shown as[10]:"
   ]
  },
  {
   "cell_type": "markdown",
   "metadata": {},
   "source": [
    "$$ L_{SSIM}(v_t, v_0) = \\frac{(2\\mu_{v_t}\\mu_{v_0}+C_1)(2\\sigma_{v_t,v_0}+C_2)}{(\\mu_{v_t}^2+\\mu_{v_0}^2+C_1)(\\sigma_{v_t}^2+\\sigma_{v_0}^2)+C_2)} , \\tag{3} $$ "
   ]
  },
  {
   "cell_type": "markdown",
   "metadata": {},
   "source": [
    "where $ \\mu_{v_0}, \\mu_{v_t}, \\sigma_{v_0},\\sigma_{v_t} \\ and \\ \\sigma_{v_t,v_0} $ are the local means, standard deviations, and cross-covariance for images $ v_t, v_0 $."
   ]
  },
  {
   "cell_type": "markdown",
   "metadata": {},
   "source": [
    "The loss could be calculated by using SSIM. The higher the index calculated, the lower the loss would be got. Sometimes, SSIM loss has the advantage to reduce the loss."
   ]
  },
  {
   "cell_type": "markdown",
   "metadata": {},
   "source": [
    "### 2.3 Optimizer"
   ]
  },
  {
   "cell_type": "markdown",
   "metadata": {},
   "source": [
    ">The optimization algorithm is the main approach which is used in the machine learning model and deep learning model to minimize their error rate nowadays.[4] "
   ]
  },
  {
   "cell_type": "markdown",
   "metadata": {},
   "source": [
    "Even with the same dataset, model and loss function, diverse optimizers are likely to lead to different results. Therefore, the choice of the optimizer would be quite significant."
   ]
  },
  {
   "cell_type": "markdown",
   "metadata": {},
   "source": [
    ">According to Ruder, gradient descent is one of the most widely used in optimization algorithms to optimize neural networks. [5]"
   ]
  },
  {
   "cell_type": "markdown",
   "metadata": {},
   "source": [
    "To make up for the disadvantages of vanilla gradient descent, researchers have invented a series of variant algorithms that gradually evolved from the original SGD (stochastic gradient descent) to N-Adam. In this experiment, Adam and SGD optimizer will be applied. They both are the variants of gradient descent algorithm."
   ]
  },
  {
   "cell_type": "markdown",
   "metadata": {},
   "source": [
    "#### 2.3.1 Gradient Descent"
   ]
  },
  {
   "cell_type": "markdown",
   "metadata": {},
   "source": [
    ">Gradient descent means that given the model parameter $θ∈R^d$ and objective function $J(θ)$ to be optimized, the algorithm minimizes $J(θ)$ by updating $θ$ in the opposite direction of the gradient $∇_θ J(θ)$. The learning rate $η$ determines the update step size at each moment. For each moment $t$, the following steps could be used to describe the gradient descent process:[5]"
   ]
  },
  {
   "cell_type": "markdown",
   "metadata": {},
   "source": [
    "Calculate the gradient of the objective function concerning parameters"
   ]
  },
  {
   "cell_type": "markdown",
   "metadata": {},
   "source": [
    "<center>$g_t=∇_θ J(θ) \\tag{4}$</center>"
   ]
  },
  {
   "cell_type": "markdown",
   "metadata": {},
   "source": [
    "Calculate first-order and second-order momentum from historical gradients"
   ]
  },
  {
   "cell_type": "markdown",
   "metadata": {},
   "source": [
    "<center>$m_t=∅(g_1,g_2,…g_t ) \\tag{5}$</center>\n",
    "<center>$v_t=ψ(g_1,g_2,⋯g_t ) \\tag{6}$</center>"
   ]
  },
  {
   "cell_type": "markdown",
   "metadata": {},
   "source": [
    "Update model parameters"
   ]
  },
  {
   "cell_type": "markdown",
   "metadata": {},
   "source": [
    "<center>$θ_(t+1)=θ_t-1/√(v_t+ϵ) m_t ,\\tag{7}$<center> "
   ]
  },
  {
   "cell_type": "markdown",
   "metadata": {},
   "source": [
    "where $ϵ$ is a smoothing term to prevent the denominator from being zero, usually $1e-8$."
   ]
  },
  {
   "cell_type": "markdown",
   "metadata": {},
   "source": [
    "#### 2.3.2 SGD (stochastic gradient descent)"
   ]
  },
  {
   "cell_type": "markdown",
   "metadata": {},
   "source": [
    "Instead of performing computations on the whole dataset — which is redundant and inefficient — SGD only computes on a small subset of a random selection of data examples.\n"
   ]
  },
  {
   "cell_type": "markdown",
   "metadata": {},
   "source": [
    ">It does away the redundancy by performing one update at a time. Thus, SGD would be much faster than gradient descent and it is also applied online.[5] "
   ]
  },
  {
   "cell_type": "markdown",
   "metadata": {},
   "source": [
    ">However, \"SGD produces the same performance as regular gradient descent when the learning rate is low.(2019)\"[4] Besides, the objective function will fluctuate intensely when SGD updates with a high variance. On the other hand, as a result of continuous overshoot, it may lead to very complicated convergence at the end until it is minimally accurate.[5]"
   ]
  },
  {
   "cell_type": "markdown",
   "metadata": {},
   "source": [
    "Most importantly, compared to other optimizers, SGD is relatively simple, because it does not use the concept of momentum. "
   ]
  },
  {
   "cell_type": "markdown",
   "metadata": {},
   "source": [
    ">According to Ruder, \"SGD has trouble navigating ravines, such that areas where the surface curves much more steeply in one dimension than in another, which are common around local optima. In these scenarios, SGD oscillates across the slopes of the ravine while only making hesitant progress along the bottom towards the local optimum.\"[5]"
   ]
  },
  {
   "cell_type": "markdown",
   "metadata": {},
   "source": [
    ">To avoid this condition, researchers introduce the concept of momentum $γ$ which helps accelerate SGD descent in the right direction and suppress fluctuation. The momentum term $γ$ is usually set to 0.9 or a similar value(2016).[5]"
   ]
  },
  {
   "cell_type": "markdown",
   "metadata": {},
   "source": [
    "Thus, the computation process would be simple when it does not use the concept of momentum."
   ]
  },
  {
   "cell_type": "markdown",
   "metadata": {},
   "source": [
    "$$m_t=ηg_t  ,v_t=I^2  ,ϵ=0 \\tag{8}$$ "
   ]
  },
  {
   "cell_type": "markdown",
   "metadata": {},
   "source": [
    "At this point, the update step is the easiest:"
   ]
  },
  {
   "cell_type": "markdown",
   "metadata": {},
   "source": [
    "<center>$θ_(i+1)=θ_t-ηg_t \\tag{9}$</center>"
   ]
  },
  {
   "cell_type": "markdown",
   "metadata": {},
   "source": [
    ">The shortcoming of SGD is that it converges slowly and may oscillate at the saddle point. Moreover, how to choose the learning rate reasonably is a major difficulty for SGD.[5]"
   ]
  },
  {
   "cell_type": "markdown",
   "metadata": {},
   "source": [
    "Then, the momentum will be added:"
   ]
  },
  {
   "cell_type": "markdown",
   "metadata": {},
   "source": [
    "<center>$m_t=γm_(t-1)+ηg_t \\tag{10}$</center>"
   ]
  },
  {
   "cell_type": "markdown",
   "metadata": {},
   "source": [
    ">This formula adds the $γm_(t-1)$ related to the step size at the previous step, which means that the parameter update direction is not only determined by the current gradient but also related to the previously accumulated descent direction. Finally, the convergence will become faster and oscillation will be reduced.[5]"
   ]
  },
  {
   "cell_type": "markdown",
   "metadata": {},
   "source": [
    "####  2.3.3 Adam (Adaptive Moment Estimation)"
   ]
  },
  {
   "cell_type": "markdown",
   "metadata": {},
   "source": [
    ">\"Adam is another method that computes adaptive learning rates for each parameter (2016),\"[5] "
   ]
  },
  {
   "cell_type": "markdown",
   "metadata": {},
   "source": [
    "as an algorithm for first-order gradient-based optimization of stochastic objective functions which is also based on adaptive estimates of lower-order moments. It can be considered as a combination of RMS-prop and SGD with momentum."
   ]
  },
  {
   "cell_type": "markdown",
   "metadata": {},
   "source": [
    ">It cannot only save an exponentially decaying average of past squared gradients like RMS-prop but also keeps an exponentially decaying average of past gradient set, which is similar to momentum. Adam calculates the first-order momentum with an exponential moving average.[6]"
   ]
  },
  {
   "cell_type": "markdown",
   "metadata": {},
   "source": [
    "More formally,"
   ]
  },
  {
   "cell_type": "markdown",
   "metadata": {},
   "source": [
    "<center>$m_t=η[β_1 m_(t-1)+(1-β_1 ) g_t ] \\tag{11}$</center>\n",
    "<center>$v_t=β_2 v_(t-1)+(1-β_2 )*diag(g_t^2 ) \\tag{12}$</center>"
   ]
  },
  {
   "cell_type": "markdown",
   "metadata": {},
   "source": [
    "where $m_0=0$, $v_0=0$, $β_1=0.9$ and $β_2=0.999$."
   ]
  },
  {
   "cell_type": "markdown",
   "metadata": {},
   "source": [
    ">At this point, $m_t$ and $v_t$ mean the estimates of the first moment (the mean) and the second moment (the uncentered variance) of the gradients respectively, so they are the names of the method.[7] "
   ]
  },
  {
   "cell_type": "markdown",
   "metadata": {},
   "source": [
    "Notice that in the initial phase of the iteration, $m_t$ and $v_t$ have a shift from the initial value (too much bias to 0). Therefore, bias corrections can be made for first and second-order momentum."
   ]
  },
  {
   "cell_type": "markdown",
   "metadata": {},
   "source": [
    ">According to Ruder, they counteract these biases by computing bias-corrected first and second-moment estimates.[5]"
   ]
  },
  {
   "cell_type": "markdown",
   "metadata": {},
   "source": [
    "<center>$m ̂_t=m_t/(1-β_1^t ) \\tag{13}$</center> \n",
    "<center>$v ̂_t=v_t/(1-β_2^t ) \\tag{14}$</center>"
   ]
  },
  {
   "cell_type": "markdown",
   "metadata": {},
   "source": [
    "<center>$m ̂_t=m_t/(1-β_1^t ) \\tag{13}$</center> \n",
    "\n",
    "<center>$v ̂_t=v_t/(1-β_2^t ) \\tag{14}$</center>\n",
    "\n",
    "Use the contents above to update parameters which produce the Adam rule:\n"
   ]
  },
  {
   "cell_type": "markdown",
   "metadata": {},
   "source": [
    "<center>$θ_(t+1)=θ_t-1/(√(v ̂_t )+ϵ) m ̂_t \\tag{15}$</center>"
   ]
  },
  {
   "cell_type": "markdown",
   "metadata": {},
   "source": [
    "which can ensure that the iteration is relatively stable.\n"
   ]
  },
  {
   "cell_type": "markdown",
   "metadata": {},
   "source": [
    "## 3 Implementation"
   ]
  },
  {
   "cell_type": "markdown",
   "metadata": {},
   "source": [
    "Magnetic resonance imaging(MRI) is a powerful tool applied to the medical area, and It is known that the data acquired from an MRI scanner is a complex-valued k-space data, where k-space behalves the spatial frequency information (Fourier coefficients) of an object imaged. Some measures could be taken to reconstructed images, such as the inverse discrete Fourier transform(DFT) to the k-space data. However, it takes relatively more time and costs to form fully sampled images. To get clear and accurate images in fast velocity, we are decided to take an undersampling method to reconstruct images."
   ]
  },
  {
   "cell_type": "markdown",
   "metadata": {},
   "source": [
    "The cartesian undersampling trajectory is a good method. First, two random mask functions generated by trajectory. They are a 4-fold acceleration mask and an 8-fold acceleration mask. Then, masked k-space data could be got by multiplying a 4-fold acceleration mask and an 8-fold acceleration mask with k-space data respectively. Finally, undersampled images could be reformed applying the inverse DFT to k-space data."
   ]
  },
  {
   "cell_type": "markdown",
   "metadata": {},
   "source": [
    "In the experiment, firstly, we loaded the MRI data set and construct the model using U-net based on Fully Convolutional Networks. Then we set some basic conditions, for example, epochs are 30, the learning rate is 0.0001  which lays the foundation for later comparison. Most important of all, we chose three loss functions and two optimized methods running with channel 1 separately to view the best result. Here are some running processes."
   ]
  },
  {
   "cell_type": "markdown",
   "metadata": {},
   "source": [
    "In the beginning, we selected MSE as the loss function and Adam as the optimizer with channel 1 respectively to run procedures. We found the result of channel 1. Then we tested SGD as the optimizer and keeping the original loss function with channel 1. The results indicated that Adam was better than SGD as the optimizer. Therefore, we kept Adam as the optimizer with channel 1 and compared three loss functions, which are L1 loss function, MSE loss function, and SSIM as the loss function. The computational consequences demonstrate that the SSIM performed the best among three loss functions."
   ]
  },
  {
   "cell_type": "code",
   "execution_count": 2,
   "metadata": {},
   "outputs": [],
   "source": [
    "%matplotlib inline\n",
    "\n",
    "import h5py, os\n",
    "import numpy as np\n",
    "from matplotlib import pyplot as plt\n",
    "from functions import transforms as T\n",
    "import torch\n",
    "from functions.subsample import MaskFunc\n",
    "from torch.utils.data import DataLoader\n",
    "from torch import nn\n",
    "from torch.nn import functional as F\n",
    "import torch.optim as optim"
   ]
  },
  {
   "cell_type": "markdown",
   "metadata": {},
   "source": [
    "### 3.1 Data_loader"
   ]
  },
  {
   "cell_type": "markdown",
   "metadata": {},
   "source": [
    "The MRI dataset we used is a set of HDF5 files that can be read with the h5py package. Each file corresponds to one MRI scan volume, containing the corresponding k-space data and some metadata related to the scan. In MRI raw data, k-space is complex-valued and has the following shape: (number of slices, height, width). MRIs are acquired as 3D volumes, the first dimension is the number of 2D slices."
   ]
  },
  {
   "cell_type": "code",
   "execution_count": 3,
   "metadata": {},
   "outputs": [],
   "source": [
    "def show_slices(data, slice_nums, cmap=None): # visualisation\n",
    "    #fig = plt.figure(figsize=(15,10))\n",
    "    fig, axes = plt.subplots(nrows=1, ncols=4)\n",
    "    for i, num in enumerate(slice_nums):\n",
    "        #plt.subplots(len(slice_nums), 1,  i + 1, nrows=1, ncols=4)\n",
    "        axes[i].imshow(data[num], cmap=cmap)\n",
    "        plt.axis('off')\n",
    "    plt.show()"
   ]
  },
  {
   "cell_type": "markdown",
   "metadata": {},
   "source": [
    "At first, we import the data set and initialize the parameters."
   ]
  },
  {
   "cell_type": "code",
   "execution_count": null,
   "metadata": {},
   "outputs": [],
   "source": [
    "class MRIDataset(DataLoader):  # import MRIdata set \n",
    "    # initialize some parameters\n",
    "    def __init__(self, data_list, acceleration, center_fraction, use_seed): \n",
    "        self.data_list = data_list\n",
    "        self.acceleration = acceleration  \n",
    "        self.center_fraction = center_fraction\n",
    "        self.use_seed = use_seed\n",
    "\n",
    "    def __len__(self):\n",
    "        return len(self.data_list)\n",
    "\n",
    "    def __getitem__(self, idx):\n",
    "        subject_id = self.data_list[idx]\n",
    "        return get_epoch_batch(subject_id, self.acceleration, self.center_fraction, self.use_seed)"
   ]
  },
  {
   "cell_type": "markdown",
   "metadata": {},
   "source": [
    "Next, we define the parameters in every epoch in batch_size. k-space should be converted into image space using PyTorch. The to_tensor function can convert Numpy arrays to PyTorch Tensors. Then, we can simulate under-sampled data by creating a mask and applying it to k-space.We created a mask function object and defined a mask with acceleration rate. About Images, we use inverse discrete function transform to get complex image firstly. Then, we crop the images to the complex central 320x320 pixel region, following evaluation will be made based on those images. After that, we normalize the images with 10^-6 regularization weight.We not only compute the absolute value of ground truth and under-sampled images to get real images, but also train model using the under-sampled image then generate output images. The printed images from left to right are under-sampled image, output image and ground truth. The structural similarity is calculated between ground truth and under-sampled images."
   ]
  },
  {
   "cell_type": "code",
   "execution_count": null,
   "metadata": {},
   "outputs": [],
   "source": [
    "def get_epoch_batch(subject_id, acc, center_fract, use_seed=True): # define the parameters in every epoch in batch_size\n",
    "    ''' random select a few slices (batch_size) from each volume'''\n",
    "\n",
    "    fname, rawdata_name, slice = subject_id  \n",
    "    # h5py.file only can be read\n",
    "    with h5py.File(rawdata_name, 'r') as data:      \n",
    "        rawdata = data['kspace'][slice]\n",
    "    # convert from numpy array to pytorch tensor\n",
    "    slice_kspace = T.to_tensor(rawdata).unsqueeze(0)\n",
    "    S, Ny, Nx, ps = slice_kspace.shape\n",
    "\n",
    "    # apply random mask\n",
    "    shape = np.array(slice_kspace.shape)\n",
    "    # create the mask function object\n",
    "    mask_func = MaskFunc(center_fractions=[center_fract], accelerations=[acc])\n",
    "    seed = None if not use_seed else tuple(map(ord, fname))\n",
    "    # use seed to exclude randomness\n",
    "    mask = mask_func(shape, seed)   \n",
    "      \n",
    "    # undersample\n",
    "    masked_kspace = torch.where(mask == 0, torch.Tensor([0]), slice_kspace)  # masked kspace data with AF=4\n",
    "    masks = mask.repeat(S, Ny, 1, ps)                                        # masks when AF=4\n",
    "    \n",
    "    # inverse discrete function transform to get the complex image\n",
    "    img_gt, img_und = T.ifft2(slice_kspace), T.ifft2(masked_kspace)\n",
    "    # crop the images to the complex central 320x320 pixel region, as evaluation will be made based on those images\n",
    "    img_gt=T.complex_center_crop(img_gt,[320,320])\n",
    "    img_und=T.complex_center_crop(img_und,[320,320])\n",
    "    \n",
    "    \n",
    "    # perform data normalization which is important for network to learn useful features\n",
    "    # during inference there is no ground truth image so use the zero-filled recon to normalize\n",
    "    norm = T.complex_abs(img_und).max()\n",
    "    if norm < 1e-6: norm = 1e-6\n",
    "    \n",
    "    # normalized data\n",
    "    img_gt, img_und, rawdata_und = img_gt/norm, img_und/norm, masked_kspace/norm\n",
    "        \n",
    "    return img_gt, img_und, norm"
   ]
  },
  {
   "cell_type": "markdown",
   "metadata": {},
   "source": [
    "We divided dataset into two parts, 70% of dataset used in training and the rest part used in validating. Next, we go through each subset and list all the file names, the file paths and the slices of subjects in the training and validation sets. Besides, we find that the first five slices are mostly noise, so we exclude them."
   ]
  },
  {
   "cell_type": "code",
   "execution_count": null,
   "metadata": {},
   "outputs": [],
   "source": [
    "def load_data_path(train_data_path, val_data_path):\n",
    "    \"\"\" Go through each subset (training, validation) and list all \n",
    "    the file names, the file paths and the slices of subjects in the training and validation sets \n",
    "    \"\"\"\n",
    "\n",
    "    data_list = {}\n",
    "    train_and_val = ['train', 'val']\n",
    "    data_path = [train_data_path, val_data_path]\n",
    "      \n",
    "\n",
    "    data_list['train'] = []\n",
    "    data_list['kspace_4af'] = []\n",
    "    data_list['kspace_8af'] = []\n",
    "\n",
    "    for fname in sorted(os.listdir(train_data_path)):\n",
    "            \n",
    "            subject_data_path = os.path.join(train_data_path, fname)\n",
    "                     \n",
    "            if not os.path.isfile(subject_data_path): continue \n",
    "            \n",
    "            with h5py.File(subject_data_path, 'r') as data:\n",
    "                num_slice = data['kspace'].shape[0]\n",
    "            data_list['train'] += [(fname, subject_data_path, slice) for slice in range(5, num_slice)]\n",
    "            \n",
    "    for fname in sorted(os.listdir(val_data_path)):\n",
    "            \n",
    "            subject_data_path = os.path.join(val_data_path, fname)\n",
    "                     \n",
    "            if not os.path.isfile(subject_data_path): continue \n",
    "            \n",
    "            with h5py.File(subject_data_path, 'r') as data:\n",
    "                num_slice = data['kspace_4af'].shape[0]\n",
    "            data_list['kspace_4af'] += [(fname, subject_data_path, slice) for slice in range(0, num_slice)]\n",
    "            \n",
    "    for fname in sorted(os.listdir(val_data_path)):\n",
    "            \n",
    "            subject_data_path = os.path.join(val_data_path, fname)\n",
    "                     \n",
    "            if not os.path.isfile(subject_data_path): continue \n",
    "            \n",
    "            with h5py.File(subject_data_path, 'r') as data:\n",
    "                num_slice = data['kspace_8af'].shape[0]\n",
    "            data_list['kspace_8af'] += [(fname, subject_data_path, slice) for slice in range(0, num_slice)]\n",
    "\n",
    "    \n",
    "    return data_list    "
   ]
  },
  {
   "cell_type": "markdown",
   "metadata": {},
   "source": [
    "### 3.2 Model"
   ]
  },
  {
   "cell_type": "markdown",
   "metadata": {},
   "source": [
    "\n",
    "The basic convolution block is encapsulated, which consists of the CNN-based basic structure as CNN: (convolution, activation, normalization) and put them into separate nn.Module.\n",
    "\n",
    "Among them, the linear unit ReLU(nn.ReLU()) is modified as a non-linear activation function, and the dropout(nn.Dropout2d(drop_prob)) theory is used to selectively ignore neurons during the training phase to avoid overfitting the model."
   ]
  },
  {
   "cell_type": "code",
   "execution_count": null,
   "metadata": {},
   "outputs": [],
   "source": [
    "class ConvBlock(nn.Module):\n",
    "    \"\"\"\n",
    "    A Convolutional Block that consists of two convolution layers each followed by\n",
    "    instance normalization, relu activation and dropout.\n",
    "    \"\"\"\n",
    "    # (conv->BN->ReLu)*2\n",
    "    # conv -> convolution\n",
    "    # BN -> batch normalization\n",
    "    # ReLu -> rectified linear unit\n",
    "    def __init__(self, in_chans, out_chans, drop_prob): # defines the components that make up the model\n",
    "        \"\"\"\n",
    "        Args:\n",
    "            in_chans (int): Number of channels in the input.\n",
    "            out_chans (int): Number of channels in the output.\n",
    "            drop_prob (float): Dropout probability.\n",
    "        \"\"\"\n",
    "        super().__init__()          # U-Net model input, output channels and dropout probability\n",
    "\n",
    "        self.in_chans = in_chans    # number of channels in the input.\n",
    "        self.out_chans = out_chans  # number of channels in the output.\n",
    "        self.drop_prob = drop_prob  # dropout probability.\n",
    "        \n",
    "        # sequential container for buliding neural network quickly\n",
    "        self.layers = nn.Sequential(\n",
    "            # initial convolution settings: Inital input and output channels, kernel size is 3, padding is 1\n",
    "            nn.Conv2d(in_chans, out_chans, kernel_size=3, padding=1),\n",
    "            #nn.InstanceNorm2d(out_chans),\n",
    "            nn.ReLU(),\n",
    "            nn.Dropout2d(drop_prob),\n",
    "            nn.Conv2d(out_chans, out_chans, kernel_size=3, padding=1),\n",
    "            #nn.InstanceNorm2d(out_chans),\n",
    "            nn.ReLU(),\n",
    "            nn.Dropout2d(drop_prob)\n",
    "        )\n",
    "        \n",
    "    # call the forward model to perform a forward pass and output predictions.\n",
    "    def forward(self, input):\n",
    "        \"\"\"\n",
    "        Args:\n",
    "            input (torch.Tensor): Input tensor of shape [batch_size, self.in_chans, height, width]\n",
    "        Returns:\n",
    "            (torch.Tensor): Output tensor of shape [batch_size, self.out_chans, height, width]\n",
    "        \"\"\"\n",
    "        return self.layers(input)\n",
    "\n",
    "    def __repr__(self):\n",
    "        return f'ConvBlock(in_chans={self.in_chans}, out_chans={self.out_chans}, ' \\\n",
    "            f'drop_prob={self.drop_prob})'"
   ]
  },
  {
   "cell_type": "markdown",
   "metadata": {},
   "source": [
    "The changes in each step are shown in the comments in the code below"
   ]
  },
  {
   "cell_type": "code",
   "execution_count": null,
   "metadata": {},
   "outputs": [],
   "source": [
    "class UnetModel(nn.Module):\n",
    "    \"\"\"\n",
    "    PyTorch implementation of a U-Net model.\n",
    "    This is based on:\n",
    "        Olaf Ronneberger, Philipp Fischer, and Thomas Brox. U-net: Convolutional networks\n",
    "        for biomedical image segmentation. In International Conference on Medical image\n",
    "        computing and computer-assisted intervention, pages 234–241. Springer, 2015.\n",
    "    \"\"\"\n",
    "\n",
    "    def __init__(self, in_chans, out_chans, chans, num_pool_layers, drop_prob):\n",
    "        \"\"\"\n",
    "        Args:\n",
    "            in_chans (int): Number of channels in the input to the U-Net model.\n",
    "            out_chans (int): Number of channels in the output to the U-Net model.\n",
    "            chans (int): Number of output channels of the first convolution layer.\n",
    "            num_pool_layers (int): Number of down-sampling and up-sampling layers.\n",
    "            drop_prob (float): Dropout probability.\n",
    "        \"\"\"\n",
    "        super().__init__()\n",
    "\n",
    "        self.in_chans = in_chans\n",
    "        self.out_chans = out_chans\n",
    "        self.chans = chans\n",
    "        self.num_pool_layers = num_pool_layers\n",
    "        self.drop_prob = drop_prob\n",
    "        # define the down-sampling operation\n",
    "        self.down_sample_layers = nn.ModuleList([ConvBlock(in_chans, chans, drop_prob)])\n",
    "        ch = chans\n",
    "        for i in range(num_pool_layers - 1):\n",
    "            self.down_sample_layers += [ConvBlock(ch, ch * 2, drop_prob)]\n",
    "            ch *= 2\n",
    "            # after each down-sampling, the number of channels will be doubled, the size will become half\n",
    "        self.conv = ConvBlock(ch, ch, drop_prob)\n",
    "        # define the up-sampling operation\n",
    "        self.up_sample_layers = nn.ModuleList()\n",
    "        for i in range(num_pool_layers - 1):\n",
    "            self.up_sample_layers += [ConvBlock(ch * 2, ch // 2, drop_prob)]\n",
    "            ch //= 2   # take integer division\n",
    "            \n",
    "        # after each up-sampling, the number of channels will be half, the size will become doubled\n",
    "        self.up_sample_layers += [ConvBlock(ch * 2, ch, drop_prob)]  \n",
    "        # because it is a splicing operation, it needs to be twice the input channel.\n",
    "        self.conv2 = nn.Sequential(   \n",
    "            # a sequential container. Modules will be added to it in the order they are passed in the constructor. Alternatively, an ordered dict of modules can also be passed in.\n",
    "            nn.Conv2d(ch, ch // 2, kernel_size=1),\n",
    "            nn.Conv2d(ch // 2, out_chans, kernel_size=1),\n",
    "            nn.Conv2d(out_chans, out_chans, kernel_size=1),\n",
    "        )\n",
    "        # the convolution kernel becomes 1, out_chans becomes 2,because medical images are binary\n",
    "            \n",
    "    def forward(self, input):\n",
    "        \"\"\"\n",
    "        Args:\n",
    "            input (torch.Tensor): Input tensor of shape [batch_size, self.in_chans, height, width]\n",
    "        Returns:\n",
    "            (torch.Tensor): Output tensor of shape [batch_size, self.out_chans, height, width]\n",
    "        \"\"\"\n",
    "        stack = []\n",
    "        output = input\n",
    "        # Apply down-sampling layers\n",
    "        # define the down-sampling convolutional layer (corresponding to one red arrow and two blue arrows in the figure)\n",
    "        for layer in self.down_sample_layers:\n",
    "            output = layer(output)\n",
    "            # appends a given module to the end of the list.\n",
    "            stack.append(output)  \n",
    "            # applies a 2D max pooling over an input signal composed of several input planes\n",
    "            output = F.max_pool2d(output, kernel_size=2)\n",
    "            \n",
    "        output = self.conv(output)\n",
    "\n",
    "        # Apply up-sampling layers\n",
    "        # define the upsampled convolutional layer and the fusion part (corresponding to a green arrow and two blue arrows in the figure)\n",
    "        for layer in self.up_sample_layers:\n",
    "            output = F.interpolate(output, scale_factor=2, mode='bilinear', align_corners=False) \n",
    "            # use bilinear interpolation，Each step of downsampling restores twice the original image\n",
    "            output = torch.cat([output, stack.pop()], dim=1) \n",
    "            # use cat for Concatenates,dim=1 representing rows in a two-dimensional matrix\n",
    "            output = layer(output)\n",
    "        return self.conv2(output)\n"
   ]
  },
  {
   "cell_type": "markdown",
   "metadata": {},
   "source": [
    "### 3.3 Function"
   ]
  },
  {
   "cell_type": "markdown",
   "metadata": {},
   "source": [
    "#### 3.3.1 Evaluation Metric - SSIM"
   ]
  },
  {
   "cell_type": "markdown",
   "metadata": {},
   "source": [
    "The structural similarity (SSIM) index measures the similarity between ground truth and under-sampled images by using the inter-dependencies among nearby pixels.  "
   ]
  },
  {
   "cell_type": "markdown",
   "metadata": {},
   "source": [
    ">SSIM is inherently able to evaluate the structural properties of the objects in an image and is computed at diﬀerent image locations by using a sliding window.[2]"
   ]
  },
  {
   "cell_type": "markdown",
   "metadata": {},
   "source": [
    "Besides, the SSIM used in our project is based on three-dimensional volumes. The number of SSIM values depends on how many volumes in the dataset."
   ]
  },
  {
   "cell_type": "code",
   "execution_count": null,
   "metadata": {},
   "outputs": [],
   "source": [
    "from skimage.measure import compare_ssim \n",
    "def ssim(gt, pred):\n",
    "    \"\"\" Compute Structural Similarity Index Metric (SSIM). \"\"\"\n",
    "    return compare_ssim(\n",
    "        gt.transpose(1, 2, 0), pred.transpose(1, 2, 0), multichannel=True, data_range=gt.max()\n",
    "        )"
   ]
  },
  {
   "cell_type": "markdown",
   "metadata": {},
   "source": [
    "#### 3.3.2 Save and load model "
   ]
  },
  {
   "cell_type": "markdown",
   "metadata": {},
   "source": [
    "Save the model in the specific directory with torch.save"
   ]
  },
  {
   "cell_type": "code",
   "execution_count": null,
   "metadata": {},
   "outputs": [],
   "source": [
    "import shutil\n",
    "def save_model(exp_dir, epoch, model, best_dev_loss, is_new_best):\n",
    "    torch.save(\n",
    "        {\n",
    "            'epoch': epoch,\n",
    "            'model': model.state_dict(),\n",
    "            'best_dev_loss': best_dev_loss,\n",
    "            'exp_dir': exp_dir\n",
    "        },\n",
    "        f=exp_dir + '/model.pt'\n",
    "    )\n",
    "    if is_new_best:\n",
    "        shutil.copyfile(exp_dir + '/model.pt', exp_dir + '/best_model.pt')"
   ]
  },
  {
   "cell_type": "markdown",
   "metadata": {},
   "source": [
    "load the model in the specfic directory with torch.load"
   ]
  },
  {
   "cell_type": "code",
   "execution_count": null,
   "metadata": {},
   "outputs": [],
   "source": [
    "def load_model(checkpoint_file, device):\n",
    "    checkpoint = torch.load(checkpoint_file)\n",
    "    model = UnetModel(1, 1, 64, 5, 0).to(device)\n",
    "    model.load_state_dict(checkpoint['model'])\n",
    "    return model"
   ]
  },
  {
   "cell_type": "markdown",
   "metadata": {},
   "source": [
    "#### 3.3.3 Train"
   ]
  },
  {
   "cell_type": "markdown",
   "metadata": {},
   "source": [
    "First, read the figure from the training dataset and transform it to the resonable torch.size which is suitable to put in the model. Second, define the loss function and optimizer. Third, caculate the gradient, update the parameters  and put the loss in a list. Last, caculate the ssim value and append it in a ssims list.  "
   ]
  },
  {
   "cell_type": "code",
   "execution_count": null,
   "metadata": {},
   "outputs": [],
   "source": [
    "def train_epoch(epoches, model, train_loader, optimizer):\n",
    "        losses = list()\n",
    "        ssims= list()\n",
    "        model.train()\n",
    "        for iteration, sample in enumerate(train_loader):\n",
    "            img_gt, img_und, norm = sample\n",
    "\n",
    "\n",
    "            img_und = img_und.squeeze(0).to(device).permute(0,3,2,1)\n",
    "            img_gt = img_gt.squeeze(0).permute(0,3,2,1).to(device)\n",
    "\n",
    "\n",
    "            target = T.complex_abs(img_gt.squeeze(0).permute(1,2,0)).unsqueeze(0).unsqueeze(0)\n",
    "            img_und = T.complex_abs(img_und.squeeze(0).permute(1,2,0))\n",
    "            img_und = img_und.unsqueeze(0).unsqueeze(0)                   #channel 1\n",
    "            output = model(img_und)\n",
    "\n",
    "    #LOSS\n",
    "    \n",
    "#             loss = F.l1_loss(output, target)  # L1 loss function\n",
    "\n",
    "#             loss_function = nn.MSELoss()      # MSE loss function\n",
    "#             loss = loss_function(output,target)\n",
    "\n",
    "            ssim_loss = pytorch_ssim.SSIM()\n",
    "            ssim_out = -ssim_loss(output,target)\n",
    "            ssim_value = - ssim_out.data.item()\n",
    "\n",
    "            optimizer.zero_grad()\n",
    "#             loss.backward()     # implementing optimization using L1 or MSE loss \n",
    "            ssim_out.backward()\n",
    "            optimizer.step()\n",
    "        \n",
    "#             losses.append(loss.item())  # add L1 or MSE loss\n",
    "            losses.append(ssim_value)\n",
    "\n",
    "            target = target.squeeze(0)\n",
    "            output = output.squeeze(0)\n",
    "            img_und = img_und.squeeze(0)\n",
    "\n",
    "            ssims.append(ssim(target.cpu().detach().numpy(),output.cpu().detach().numpy()))\n",
    "\n",
    "\n",
    "        print(\"train\",epoch)\n",
    "        print(\"trainloss\",np.mean(losses))\n",
    "        print(\"trainssim\",np.mean(ssims))"
   ]
  },
  {
   "cell_type": "markdown",
   "metadata": {},
   "source": [
    "#### 3.3.4 Evaluate"
   ]
  },
  {
   "cell_type": "markdown",
   "metadata": {},
   "source": [
    "Use the validation dataset to evaluate the model. The process is almost the same as the train_epoch but it does not contain optimizer in order to validate the model by calculating the ssim value with the validation dataset."
   ]
  },
  {
   "cell_type": "code",
   "execution_count": null,
   "metadata": {},
   "outputs": [],
   "source": [
    "def evaluate(epoch, model, test_loader):\n",
    "        losses = list()\n",
    "        ssims= list()\n",
    "        model.eval()\n",
    "        for iteration, sample in enumerate(test_loader):\n",
    "            img_gt, img_und, norm = sample\n",
    "\n",
    "\n",
    "            img_und = img_und.squeeze(0).to(device).permute(0,3,2,1)\n",
    "            img_gt = img_gt.squeeze(0).permute(0,3,2,1).to(device)\n",
    "\n",
    "\n",
    "            target = T.complex_abs(img_gt.squeeze(0).permute(1,2,0)).unsqueeze(0).unsqueeze(0)\n",
    "            img_und = T.complex_abs(img_und.squeeze(0).permute(1,2,0))\n",
    "            img_und = img_und.unsqueeze(0).unsqueeze(0)                   #channel 1\n",
    "            output = model(img_und)\n",
    "\n",
    "    #LOSS\n",
    "    \n",
    "#             loss = F.l1_loss(output, target)  # L1 loss function\n",
    "\n",
    "#             loss_function = nn.MSELoss()      # MSE loss function\n",
    "#             loss = loss_function(output,target)\n",
    "        \n",
    "            ssim_loss = pytorch_ssim.SSIM()\n",
    "            ssim_out = -ssim_loss(output,target)\n",
    "            ssim_value = - ssim_out.data.item()\n",
    "\n",
    "#             optimizer.zero_grad()\n",
    "#             ssim_out.backward()\n",
    "#             optimizer.step()\n",
    "\n",
    "#             losses.append(loss.item())\n",
    "            losses.append(ssim_value)\n",
    "\n",
    "            target = target.squeeze(0)\n",
    "            output = output.squeeze(0)\n",
    "            img_und = img_und.squeeze(0)\n",
    "\n",
    "            ssims.append(ssim(target.cpu().detach().numpy(),output.cpu().detach().numpy()))\n",
    "\n",
    "            if iteration==2000:\n",
    "\n",
    "                B = img_und.squeeze().cpu().detach()\n",
    "                C = output.squeeze().cpu().detach() #channel 1\n",
    "                D = target.squeeze().cpu().detach()\n",
    "                all_imgs = torch.stack([B,C,D], dim=0)\n",
    "                show_slices(all_imgs, [0, 1, 2], cmap='gray')\n",
    "                print(ssim(target.cpu().detach().numpy(),output.cpu().detach().numpy()))\n",
    "                plt.pause(1)\n",
    "            \n",
    "        print(\"test\",epoch)\n",
    "        print(\"testloss\",np.mean(losses))\n",
    "        print(\"testssim\",np.mean(ssims))\n",
    "        return np.mean(ssims)"
   ]
  },
  {
   "cell_type": "markdown",
   "metadata": {},
   "source": [
    "### 3.4 Total Process"
   ]
  },
  {
   "cell_type": "markdown",
   "metadata": {},
   "source": [
    "Firstly, we get the dataset from the specified path. Then, some parameters have been set as the best values. If conditions permit, GPU is the best choice which is much faster. The dataset would be divided into two groups: the first 1900 are set as train_dataset and the remaining are set as test_dataset. After choosing the right model, optimizer, and the learning rate, the data will be processed in 30 epochs. Select the best model to save in a specific directory."
   ]
  },
  {
   "cell_type": "code",
   "execution_count": null,
   "metadata": {},
   "outputs": [],
   "source": [
    "import pytorch_ssim\n",
    "if __name__ == '__main__':\n",
    "    \n",
    "    data_path_train = '/data/local/NC2019MRI/train'\n",
    "    data_path_val = '/data/local/NC2019MRI/train'\n",
    "    exp_dir = '../model'\n",
    "    if not (os.path.exists(exp_dir)): os.makedirs(exp_dir)\n",
    "    checkpoint_file = '../model/best_model.pt'\n",
    "    data_list = load_data_path(data_path_train, data_path_val) \n",
    "    \n",
    "    # define parameters\n",
    "    acc = 8     #  times acceleration\n",
    "    cen_fract = 0.04 # center fraction \n",
    "    seed = False # random masks for each slice \n",
    "    num_workers = 12 # data loading is faster using a bigger number for num_workers. zero means using one cpu to load data\n",
    "    device = 'cuda:0' if torch.cuda.is_available() else 'cpu' \n",
    "\n",
    "    #divide the training dataset to train_dataset and validation dataset.The name 'test_dataset'is not proper in the function\n",
    "    train_dataset = MRIDataset(data_list['train'][:1900], acceleration=acc, center_fraction=cen_fract, use_seed=seed)\n",
    "    test_dataset = MRIDataset(data_list['train'][1900:], acceleration=acc, center_fraction=cen_fract, use_seed=seed)\n",
    "    train_loader = DataLoader(train_dataset, shuffle=True, batch_size=1, num_workers=num_workers) \n",
    "    test_loader = DataLoader(test_dataset, shuffle=False, batch_size=1, num_workers=num_workers)\n",
    "    \n",
    "    print(device)\n",
    "    lr = 0.0001     # learning rate\n",
    "    epoches = 30    # how many output times\n",
    "    newModel=UnetModel(1,1,64,5,0).to(device) # channel 1\n",
    "#     newModel=UnetModel(2,2,64,4,0).to(device)   # channel 2\n",
    "\n",
    "#OPTIMIZER    \n",
    "\n",
    "    optimizer = optim.Adam(newModel.parameters(),lr=lr)    #Adam optimizer\n",
    "    #optimizer = optim.Adam(newModel.parameters(),lr=lr)   #SGD optimizer\n",
    "    temp_ssims = 0\n",
    "    for epoch in range(epoches):\n",
    "        train_epoch(epoch, newModel, train_loader, optimizer)\n",
    "        test_ssims = evaluate(epoch, newModel, test_loader)\n",
    "        if test_ssims >= temp_ssims:                    #compare the output of the validation dataset in each epoch\n",
    "            temp_ssims = test_ssims                     # save the model with the best ssim result\n",
    "            save_model(exp_dir, epoch, newModel, temp_ssims , True)         \n",
    "            \n",
    "    eval_model = load_model(checkpoint_file, device)    # check the load model function\n",
    "\n",
    "    eval_ssims = evaluate(0, eval_model, test_loader)\n",
    "    print(eval_ssims)"
   ]
  },
  {
   "cell_type": "markdown",
   "metadata": {},
   "source": [
    "### 3.5 Reconstruct test dataset"
   ]
  },
  {
   "cell_type": "markdown",
   "metadata": {},
   "source": [
    "Build new class and functions to read the figure from the test dataset which does not conclude the ground truth. Then read the silces from the files and reconstruct them with the selected model. After that, we torch.cat them together to save in the file with the same name and different directory."
   ]
  },
  {
   "cell_type": "code",
   "execution_count": null,
   "metadata": {},
   "outputs": [],
   "source": [
    "class MRIDataset_test(DataLoader):\n",
    "    def __init__(self, data_list, acceleration):\n",
    "        # initialize some parameters\n",
    "        self.data_list = data_list\n",
    "        self.acceleration = acceleration \n",
    "\n",
    "    def __len__(self):\n",
    "        return len(self.data_list)\n",
    "\n",
    "    def __getitem__(self, idx):\n",
    "        subject_id = self.data_list[idx]\n",
    "        return get_epoch_batch_test(subject_id)"
   ]
  },
  {
   "cell_type": "code",
   "execution_count": null,
   "metadata": {},
   "outputs": [],
   "source": [
    "def get_epoch_batch_test(subject_id):\n",
    "    ''' random select a few slices (batch_size) from each volume'''\n",
    "\n",
    "    fname, rawdata_name, slice = subject_id  \n",
    "    \n",
    "    with h5py.File(rawdata_name, 'r') as data:\n",
    "        rawdata = data['kspace_4af'][slice]\n",
    "                      \n",
    "    slice_kspace = T.to_tensor(rawdata).unsqueeze(0)# Convert from numpy array to pytorch tensor\n",
    "\n",
    "\n",
    "    img_4af = T.ifft2(slice_kspace)# Apply Inverse Fourier Transform to get the complex image\n",
    "    \n",
    "    img_4af=T.complex_center_crop(img_4af,[320,320])#Central crop to [320,320]\n",
    "    \n",
    "    norm = T.complex_abs(img_4af).max()\n",
    "    if norm < 1e-6: norm = 1e-6\n",
    "    \n",
    "    # normalized data\n",
    "    img_4af = img_4af/norm\n",
    "\n",
    "        \n",
    "    return img_4af, fname"
   ]
  },
  {
   "cell_type": "markdown",
   "metadata": {},
   "source": [
    "As for the test dataset, each file contains several figures. This function spilts the file to read the each figure and put it in the model chosen by the results. Then, stick the figures again to store the results in the h5 file with the same name but in different directory."
   ]
  },
  {
   "cell_type": "code",
   "execution_count": null,
   "metadata": {},
   "outputs": [],
   "source": [
    "def construction_test(model, test_loader):\n",
    "    device = 'cuda:0' if torch.cuda.is_available() else 'cpu' \n",
    "    model.eval()\n",
    "    Fname = \"\"\n",
    "    recons = {}\n",
    "    tmp = torch.rand(1,320,320)# a temp\n",
    "    with torch.no_grad():\n",
    "        for iteration, sample in enumerate(test_loader):\n",
    "            img_und, fname = sample\n",
    "            fname = fname[0]\n",
    "            img_und = img_und.squeeze(0).to(device).permute(0,3,2,1) # transform the img from the test dataset \n",
    "            img_und = T.complex_abs(img_und.squeeze(0).permute(1,2,0))\n",
    "            img_und = img_und.unsqueeze(0).unsqueeze(0)  \n",
    "            out = model(img_und)                                    #same as the train_epoch, the figure put in the model should be torch.Size([1, 320, 320])\n",
    "            out = out.cpu().squeeze(1)\n",
    "            if (fname!= Fname):                                     #read slices one by one in the same file \n",
    "                                                                    \n",
    "                if(iteration != 0):\n",
    "                    recons[Fname] = tmp.numpy()\n",
    "                    #print(recons[Fname].shape)\n",
    "                Fname = fname\n",
    "                tmp = out\n",
    "                #print(tmp.shape)\n",
    "            else:                                                    #stick the slice together in a file (35,320,320) \n",
    "                tmp = torch.cat((tmp,out),0)                         #when the name of the file changes, stop torch.cat\n",
    "                #print(tmp.shape)\n",
    "    recons[Fname] = tmp.numpy()\n",
    "    return recons   "
   ]
  },
  {
   "cell_type": "markdown",
   "metadata": {},
   "source": [
    "Creat new keys 'recon_4af' and recon_8af' in the file to store the reconstructed figure"
   ]
  },
  {
   "cell_type": "code",
   "execution_count": null,
   "metadata": {},
   "outputs": [],
   "source": [
    "def save_reconstructions(recon_4af,recon_8af, out_dir):\n",
    "    \"\"\"\n",
    "    Saves the reconstructions from a model into h5 files that is appropriate for submission\n",
    "    to the leaderboard.\n",
    "    Args:\n",
    "        reconstructions (dict[str, np.array]): A dictionary mapping input filenames to\n",
    "            corresponding reconstructions (of shape num_slices x height x width).\n",
    "        out_dir (pathlib.Path): Path to the output directory where the reconstructions\n",
    "            should be saved.\n",
    "    \"\"\"\n",
    "    for fname, recons in recon_4af.items():\n",
    "        subject_path = os.path.join(out_dir, fname)\n",
    "        print(subject_path)\n",
    "        with h5py.File(subject_path, 'w') as f:       #open the h5 file\n",
    "            f.create_dataset('recon_4af', data=recons)#store the reconstruction as a value of key 'recon_4af'\n",
    "            f.create_dataset('recon_8af', data=recon_8af[fname])#store the reconstruction as a value of key 'recon_8af'"
   ]
  },
  {
   "cell_type": "markdown",
   "metadata": {},
   "source": [
    "Save the results."
   ]
  },
  {
   "cell_type": "code",
   "execution_count": null,
   "metadata": {},
   "outputs": [],
   "source": [
    "data_path_train = '/data/local/NC2019MRI/train'\n",
    "data_path_val = '/data/local/NC2019MRI/test'\n",
    "out_dir = '/run/media/hxz946/CURZ/results/'          # where you want to save your result. \n",
    "if not (os.path.exists(out_dir)): os.makedirs(out_dir)\n",
    "checkpoint_file4 = '/run/media/hxz946/CURZ/model4af/best_model.pt' #the directory of the best model for 4-fold undersampled data\n",
    "checkpoint_file8 = '/run/media/hxz946/CURZ/model8af/best_model.pt' #the directory of the best model for 8-fold undersampled data\n",
    "data_list = load_data_path(data_path_train, data_path_val) \n",
    "seed = True\n",
    "device = 'cuda:0' if torch.cuda.is_available() else 'cpu' \n",
    "test_dataset_4af = MRIDataset_test(data_list['kspace_4af'], 4) #load the kspace data with AF=4\n",
    "test_loader_4af = DataLoader(test_dataset_4af, shuffle=False, batch_size=1, num_workers=12)\n",
    "test_dataset_8af = MRIDataset_test(data_list['kspace_8af'], 8) #load the kspace data with AF=8\n",
    "test_loader_8af = DataLoader(test_dataset_8af, shuffle=False, batch_size=1, num_workers=12)\n",
    "\n",
    "\n",
    "\n",
    "eval_model4 = load_model(checkpoint_file4, device)#read the best model for 4-fold undersampled data\n",
    "eval_model8 = load_model(checkpoint_file8, device)#read the best model for 8-fold undersampled data\n",
    "recons = {}\n",
    "recons_4af = construction_test(eval_model4, test_loader_4af)#reconstruct \n",
    "recons_8af = construction_test(eval_model8, test_loader_8af)\n",
    "save_reconstructions(recons_4af,recons_8af,out_dir)# save the reconstruction of recons_4af,recons_8af to the same h5 file"
   ]
  },
  {
   "cell_type": "markdown",
   "metadata": {},
   "source": [
    "After storing the reconstructions in the h5 file, read one of the files again and show some of the slices"
   ]
  },
  {
   "cell_type": "code",
   "execution_count": 4,
   "metadata": {},
   "outputs": [
    {
     "name": "stdout",
     "output_type": "stream",
     "text": [
      "(35, 320, 320)\n",
      "(35, 320, 320)\n"
     ]
    },
    {
     "data": {
      "image/png": "[encoded data removed]",
      "text/plain": [
       "<Figure size 432x288 with 4 Axes>"
      ]
     },
     "metadata": {
      "needs_background": "light"
     },
     "output_type": "display_data"
    },
    {
     "data": {
      "image/png": "[encoded data removed]",
      "text/plain": [
       "<Figure size 432x288 with 4 Axes>"
      ]
     },
     "metadata": {
      "needs_background": "light"
     },
     "output_type": "display_data"
    }
   ],
   "source": [
    "file_path = '/run/media/yxj996/CURZ/results/file1000817.h5'\n",
    "\n",
    "with h5py.File(file_path,  \"r\") as hf:\n",
    "    volume_kspace_4af = hf['recon_4af'][()]\n",
    "    print(volume_kspace_4af.shape)\n",
    "    volume_kspace_8af = hf['recon_8af'][()]\n",
    "    print(volume_kspace_8af.shape)\n",
    "    show_slices(volume_kspace_4af, [5, 10, 15, 20]) # Reconstructed slices 0, 5  10 15  with undersampling rate 4\n",
    "    show_slices(volume_kspace_8af, [5, 10, 15, 20]) # Reconstructed slices 0, 5  10 15  with undersampling rate 8\n",
    "    "
   ]
  },
  {
   "cell_type": "markdown",
   "metadata": {},
   "source": [
    "## 4 Experiments"
   ]
  },
  {
   "cell_type": "markdown",
   "metadata": {},
   "source": [
    "In the experient, we chose U-net model and fixed some variables: learning rate is 0.0001, channels are 64 and epochs are set as 30. And we ran the procedure by seting the acceleration as 8 and the center fraction is 0.04.Here are some comparison methods and results."
   ]
  },
  {
   "cell_type": "markdown",
   "metadata": {},
   "source": [
    "|Model|Channels|Pool layers|Loss|Optimizer|Test SSIM|Train SSIM|\n",
    "|-----|--------|----|----|---------|------------|-------------|\n",
    "|U-net|    32  |  3 |SSIM|  Adam   |    0.5917   |    0.5323    |\n",
    "|U-net|    64  |  5 |SSIM|  Adam   |    0.5987   |    0.5985    |\n",
    "\n",
    "                                      Table 1: Comparison the different channels and pools \n",
    "                         \n",
    "Table 1 shows the various test results and train data by comparing two kind of channels and pools,which indicates that the result is better with 64 channels and 5 pool layers rather than 32 channels and 3 pool layers."
   ]
  },
  {
   "cell_type": "markdown",
   "metadata": {},
   "source": [
    "|Model|Channels|Pool layers|Loss|Optimizer|Test SSIM|Train SSIM|\n",
    "|-----|--------|----|----|---------|------------|-------------|\n",
    "|U-net|    64  |  5 |MSE|  Adam   |    0.5719   |   0.5331    |\n",
    "|U-net|    64  |  5 |L1|  Adam   |    0.5765   |    0.5281    |\n",
    "\n",
    "                                       Table 2: Comparison the different loss functions \n",
    "\n",
    "Table 2 illustrates the test and train results with MSE and L1 loss functions. It can be seen that SSIM loss function performs the best among these loss functions."
   ]
  },
  {
   "cell_type": "markdown",
   "metadata": {},
   "source": [
    "Therefore, SSIM loss function could also be fixed to compare other elements, such as optimizers."
   ]
  },
  {
   "cell_type": "markdown",
   "metadata": {},
   "source": [
    "|Model|Channels|Pool layers|Loss|Optimizer|Test SSIM|Train SSIM|\n",
    "|-----|--------|-----------|----|---------|---------|----------|\n",
    "|U-net|    64  |   5       |SSIM|  SGD   |  0.4502 |   0.3903 |\n",
    "\n",
    "                                       Table 3: Comparison the different optimizers \n",
    "\n",
    "Table 3 demonstrates that SGD as the optimizer underperforms than the Adam as the optimizer. To summarize, the procedure performs well with SSIM loss functon, Adam as opitimizer, 64 channels and 5 poolayers depended on 8 acceleration and 0.04 center fraction in the U-net model."
   ]
  },
  {
   "cell_type": "markdown",
   "metadata": {},
   "source": [
    "After testing 8-fold acceleration and 0.04 central fraction, the next test is 4-fold acceleration and 0.08 central fraction. In this round of testing, we test the results of three different loss functions and two optimizer trained by the U-Net. Through variable control, we will first filter the loss function, then the optimizer, and finally select the best Channels and Acceleration."
   ]
  },
  {
   "cell_type": "markdown",
   "metadata": {},
   "source": [
    "|  Model | Channels |Pool Layers|Loss Function| Optimizer |  Test Loss  | Test SSIM|\n",
    "|--------|---------|---------|---------|-----------------|--------|--------|\n",
    "|  U-net |    64    | 5|  L1  |  ADAM  |  0.0346  |    0.6901   |\n",
    "|  U-net |    64    | 5|  MSE  |  ADAM |  0.0027  | 0.6731     |\n",
    "|  U-net |    64    |  5| SSIM  | ADAM |  0.6625 | 0.6907      |\n",
    "\n",
    "Table 4: MRI image reconstruction performance on the same channel, optimizer but different Loss functions. L1, MSE and SSIM loss functions\n",
    "\n",
    "Table 4 shows that we use different loss functions under the same Adam(optimizer) and 64 Channels, 5 Pool layers. Different loss functions show different results. By comparing the results, we find that SSIM has better performance as a loss function which performed."
   ]
  },
  {
   "cell_type": "markdown",
   "metadata": {},
   "source": [
    "Next, we will compare the results obtained under different optimizers using SSIM as the loss function and same number Channels and Acceleration:\n",
    "\n",
    "|  Model | Channels |Pool Layers |Loss Function| Optimizer |  Test Loss  | Test SSIM|\n",
    "|--------|---------|---------|---------|-----------------|--------|--------|\n",
    "|  U-net |    64    |5| SSIM |  ADAM  |  0.6625  |    0.6907   |\n",
    "|  U-net |    64   | 5| SSIM | SGD |  0.5516 | 0.5540    |\n",
    "\n",
    "Table 5: MRI image reconstruction performance on the same number of channels, loss Functions but different optimizers\n",
    "\n",
    "After the experimental results in Table 5, we find that Adam as an optimizer can get better results."
   ]
  },
  {
   "cell_type": "markdown",
   "metadata": {},
   "source": [
    "Finally, we compared 32 Channels, 3 Pool layers with 64 Channels, 5 Pool layers, using the SSIM loss function and Adam optimizer, and got the following results:\n",
    "\n",
    "|  Model | Channels |Pool layers|Loss Function| Optimizer |  Test Loss  | Test SSIM|\n",
    "|--------|--------- |---------|---------|-----------------|--------|--------|\n",
    "|  U-net |    64   | 5 | SSIM |  ADAM  |  0.6925 |  0.6907     |\n",
    "|  U-net |    32   | 3 | SSIM | ADAM |  0.6641 | 0.6914    |\n",
    "\n",
    "Table 6, MRI image reconstruction performance on the different number of channels,but same loss Functions and  optimizers\n",
    "\n",
    "Although in this test, the results of using 32channels and 3 pool layers are slightly better, but according to the structure of U-Net and the above data analysis, this group of data is not representative, so it can be considered that using 64channels and 5 pool layers give better results.\n"
   ]
  },
  {
   "cell_type": "markdown",
   "metadata": {},
   "source": [
    "So in all comparison tests, the best model we can get is:\n",
    "\n",
    "|  Model | Acceleration|Central Fraction|Channels |Pool layers|Loss Function| Optimizer |  Test Loss  | Test SSIM|\n",
    "|--------|--------- |--------- |--------- |---------|---------|-----------------|--------|--------|\n",
    "|  U-net | 32 | 3 |    64   | 5 | SSIM |  ADAM  |  0.6925 |  0.6907     |\n",
    "\n",
    "                                            Table 7, the best model"
   ]
  },
  {
   "cell_type": "markdown",
   "metadata": {},
   "source": [
    "## 5 Conclusions"
   ]
  },
  {
   "cell_type": "markdown",
   "metadata": {},
   "source": [
    "This paper focuses on how to reconstruct images by using MRI (magnetic resonance imaging), which is relatively essential in the medical field. However, the current technology cannot guarantee the production of sharper images within a short time. Therefore, according to the requirements from the tutor and related materials, the group needs to find the fittest functions and parameters to complete this research."
   ]
  },
  {
   "cell_type": "markdown",
   "metadata": {},
   "source": [
    "The group has determined that the undersampled method and inverse Discrete Fourier Transform would be used before this experiment. Besides, SSIM (Structural Similarity Index Metrics) is going to be the measurement of the final result, which means that the closer it is to one, the higher the similarity. Thus, the model, loss functions, channels, optimizers, epochs, and the learning rate are considered as the most significant modules for reconstructing the image and comparing with the ground truth image. After a large number of analyses, the acceleration rate is set as 4 or 8, the learning rate is 0.0001 epochs are 30, and the model is U-Net. The value will stabilize when the period exceeds 15. However, there are two optimization algorithms: Adam and SGD (stochastic gradient descent), three loss-functions: L1, MSE (mean-square error, which is also can be called L2), and SSIM as well as two channels: channel 1 and channel 2 which are applicable for this trial.To find the most suitable parameters, the control variable method is adopted. Over repeated experiments and comparisons, the group found that channel 1, SSIM, and Adam are superior to other modules that have similar features, which generate a value of at the end. "
   ]
  },
  {
   "cell_type": "markdown",
   "metadata": {},
   "source": [
    "MRI is a very influential technique that can diagnose a lot of diseases. However, it is regrettable that if the doctor wants to produce the image which has enough high pixels may lead to expensive cost and plenty of time. What is worse is that it may account for the increase in the patient's stress to some extent. This means that MRI is still a technology that needs to be perfected. Nowadays there are a large amount of major medical institutions and enterprises have devoted themselves to researching it, which shows it is likely to be more exceptional shortly."
   ]
  },
  {
   "cell_type": "markdown",
   "metadata": {},
   "source": [
    "## 6 Description of Contribution"
   ]
  },
  {
   "cell_type": "markdown",
   "metadata": {},
   "source": [
    "Haodong Zuo: Write the code, write Reconstruction part of the report.\n",
    "\n",
    "Jing Bai: Run code, comparing the output of model and writing comments in the source code. Besides, I did most of report design. In this report, I write 3 sections: introduction, data loader and experimental results.\n",
    "\n",
    "Shuqi Liu: Run Code, write the design part of Loss and introduction of implementation. Write comments in the source code(loss functions), co-build forms in the results.\n",
    "\n",
    "Yifan Guo:Explaining the U-Net model in design section, run the code, write comments in U-Net model, co-build forms in the results.\n",
    "\n",
    "Yunong Jiang: Run code, write comments of the data_loader. Write the optimizer and the conclusion in the report.\n"
   ]
  },
  {
   "cell_type": "markdown",
   "metadata": {},
   "source": [
    "## 7 Reference"
   ]
  },
  {
   "cell_type": "markdown",
   "metadata": {},
   "source": [
    "[1] No Author, fastMRI: Accelerating MR Imaging with AI, https://fastmri.org/ , 19 December 2019\n",
    "\n",
    "[2] Zbontar, Jure, Knoll, Florian, Sriram, Anuroop. fastMRI: An Open Dataset and Benchmarks for Accelerated MRI[J], 19 December 2019.\n",
    "\n",
    "[3] No author. Coursework 2019/2020. Available at: https://canvas.bham.ac.uk/courses/38479/files/folder/Coursework?preview=8255985, 19 December 2019\n",
    "\n",
    "[4] ‘Fast as Adam & Good as SGD’ — New Optimizer Has Both (2019) Available at: https://medium.com/syncedreview/iclr-2019-fast-as-adam-good-as-sgd-new-optimizer-has-both-78e37e8f9a34, 6 December 2019.\n",
    "\n",
    "[5] Ruder, S. (2016). An overview of gradient descent optimization algorithms. arXiv preprint arXiv:1609.04747.\n",
    "\n",
    "[6] Kingma, D. P., & Ba, J. (2014). Adam: A method for stochastic optimization. arXiv preprint arXiv:1412.6980.\n",
    "\n",
    "[7] Adam — latest trends in deep learning optimization. (2018) Available at: https://towardsdatascience.com/adam-latest-trends-in-deep-learning-optimization-6be9a291375c, 8 December 2019. \n",
    "\n",
    "[8] Ronneberger, O., Fischer, P. and Brox, T., 2015, October. U-net: Convolutional networks for biomedical image segmentation. In International Conference on Medical image computing and computer-assisted intervention (pp. 234-241). Springer, Cham.\n",
    "\n",
    "[9] Wu Zhenglong,Comparison L1 loss function with L2 loss function,https://medium.com/@ZhengLungWu/l1-loss%E5%92%8Cl2-loss%E6%AF%94%E8%BC%83-2f4b7dda12d, 15 December 2019\n",
    "\n",
    "[10] No Author, Structural Similarity, https://en.wikipedia.org/wiki/Structural_similarity, 16 December 2019"
   ]
  },
  {
   "cell_type": "code",
   "execution_count": null,
   "metadata": {},
   "outputs": [],
   "source": []
  }
 ],
 "metadata": {
  "kernelspec": {
   "display_name": "Python 3",
   "language": "python",
   "name": "python3"
  },
  "language_info": {
   "codemirror_mode": {
    "name": "ipython",
    "version": 3
   },
   "file_extension": ".py",
   "mimetype": "text/x-python",
   "name": "python",
   "nbconvert_exporter": "python",
   "pygments_lexer": "ipython3",
   "version": "3.6.9"
  }
 },
 "nbformat": 4,
 "nbformat_minor": 2
}
